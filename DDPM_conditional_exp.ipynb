{
 "cells": [
  {
   "cell_type": "code",
   "execution_count": 1,
   "id": "de06a7be",
   "metadata": {},
   "outputs": [
    {
     "name": "stderr",
     "output_type": "stream",
     "text": [
      "/Users/umang/miniforge3/envs/py3cv/lib/python3.10/site-packages/tqdm/auto.py:22: TqdmWarning: IProgress not found. Please update jupyter and ipywidgets. See https://ipywidgets.readthedocs.io/en/stable/user_install.html\n",
      "  from .autonotebook import tqdm as notebook_tqdm\n"
     ]
    }
   ],
   "source": [
    "from ddpm_conditional import train"
   ]
  },
  {
   "cell_type": "code",
   "execution_count": 2,
   "id": "8b7110b6",
   "metadata": {},
   "outputs": [],
   "source": [
    "class Args:\n",
    "    def __init__(self):\n",
    "        self.run_name = \"DDPM_conditional\"\n",
    "        self.epochs = 300\n",
    "        self.batch_size = 14\n",
    "        self.image_size = 64\n",
    "        self.num_classes = 10\n",
    "        self.dataset_name = \"cifar10\"\n",
    "        self.device = \"cpu\"\n",
    "        self.lr = 3e-4\n",
    "        self.cond_threshold = 0.1"
   ]
  },
  {
   "cell_type": "code",
   "execution_count": 3,
   "id": "c50905c6",
   "metadata": {},
   "outputs": [],
   "source": [
    "def launchCode():\n",
    "    args = Args()\n",
    "    train(args)"
   ]
  },
  {
   "cell_type": "code",
   "execution_count": null,
   "id": "318bcda6",
   "metadata": {},
   "outputs": [
    {
     "name": "stdout",
     "output_type": "stream",
     "text": [
      "cpu\n",
      "Files already downloaded and verified\n"
     ]
    },
    {
     "name": "stderr",
     "output_type": "stream",
     "text": [
      "06:22:20 - INFO: Starting epoch 0:\n",
      "  0%|                             | 0/3572 [00:00<?, ?it/s]"
     ]
    }
   ],
   "source": [
    "launchCode()"
   ]
  },
  {
   "cell_type": "code",
   "execution_count": null,
   "id": "6a65e77b",
   "metadata": {},
   "outputs": [],
   "source": []
  }
 ],
 "metadata": {
  "kernelspec": {
   "display_name": "Python 3 (ipykernel)",
   "language": "python",
   "name": "python3"
  },
  "language_info": {
   "codemirror_mode": {
    "name": "ipython",
    "version": 3
   },
   "file_extension": ".py",
   "mimetype": "text/x-python",
   "name": "python",
   "nbconvert_exporter": "python",
   "pygments_lexer": "ipython3",
   "version": "3.10.6"
  }
 },
 "nbformat": 4,
 "nbformat_minor": 5
}
